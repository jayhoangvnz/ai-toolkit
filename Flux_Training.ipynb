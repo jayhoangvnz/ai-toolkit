{
  "cells": [
    {
      "cell_type": "markdown",
      "metadata": {
        "id": "kmK4UEj1-gHB"
      },
      "source": [
        "# [![](https://img.shields.io/badge/Video-Hướng%20dẫn-ff0000)](https://youtu.be/798qchqWty4) [![](https://img.shields.io/badge/Design-stablediffusion.vn-0075ff)](https://stablediffusion.vn) [![](https://img.shields.io/badge/Ver-2.0-0075ff)](https://stablediffusion.vn/update/) [![](https://img.shields.io/badge/All%20Tools-sdvn.me-0075ff)](https://stablediffusion.vn/bo-cong-cu/) [![](https://img.shields.io/badge/SDVN-Library-green)](https://bit.ly/sdvn-lib) [![](https://img.shields.io/badge/Khoá%20học-SD%20Flux-red)](https://hungdiffusion.com/) [![](https://img.shields.io/badge/Group-Support-0075ff)](https://www.facebook.com/groups/stablediffusion.vn) [![](https://img.shields.io/discord/813085864355037235?color=blue&label=Discord&logo=Discord)](https://discord.gg/5SEtApPeyG)\n",
        "---\n",
        "🧨 `Train được ở L4 (Yêu cầu bật low VRAM - Batch_size 1) và A100`\n",
        "\n",
        "🔥 `Cập nhật phiên bản v2, hỗ trợ train nhiều lora trong một setting, thêm chế độ sử dụng với giao diện UI`"
      ]
    },
    {
      "cell_type": "markdown",
      "metadata": {
        "id": "2DRFiKdj5UWy"
      },
      "source": [
        "#☕️ 1.Cài đặt"
      ]
    },
    {
      "cell_type": "code",
      "execution_count": null,
      "metadata": {
        "cellView": "form",
        "id": "Gip8TXBMjVEP"
      },
      "outputs": [],
      "source": [
        "#@title ✨ Cài đặt UI\n",
        "\n",
        "# @markdown 🟡 `Lựa chọn Gradio nếu muốn train trực tiếp với giao diện UI (Sử dụng link gradio) `\n",
        "%cd /content\n",
        "from google.colab import drive\n",
        "drive.mount('/content/drive')\n",
        "\n",
        "UI = 'Colab' # @param ['Gradio','Colab']\n",
        "\n",
        "root_dir = \"/content\"\n",
        "repo_dir = f\"{root_dir}/SDVN-training-colab-flux\"\n",
        "toolkit_dir = f\"{repo_dir}/ai-toolkit\"\n",
        "config_dir = f\"{repo_dir}/Config\"\n",
        "\n",
        "%cd {root_dir}\n",
        "import os\n",
        "if not os.path.exists(repo_dir):\n",
        "  !git clone  --recurse-submodules https://github.com/StableDiffusionVN/SDVN-training-colab-flux {repo_dir}\n",
        "  %env TF_CPP_MIN_LOG_LEVEL=1\n",
        "  %env LD_PRELOAD={repo_dir}/libtcmalloc_minimal.so.4\n",
        "%cd {toolkit_dir}\n",
        "!pip install -q -r requirements.txt\n",
        "\n",
        "%run {repo_dir}/TrainScript.ipynb\n",
        "\n",
        "if UI == \"Gradio\":\n",
        "  !rm -r {toolkit_dir}/output\n",
        "  !ln -s /content/drive/MyDrive/SD-Data/Lora {toolkit_dir}/output\n",
        "  !python {toolkit_dir}/flux_train_ui.py\n"
      ]
    },
    {
      "cell_type": "markdown",
      "metadata": {
        "id": "4Xd6BfhD5YHU"
      },
      "source": [
        "#⏳ 2. Cấu hình train"
      ]
    },
    {
      "cell_type": "code",
      "execution_count": null,
      "metadata": {
        "cellView": "form",
        "id": "I7b6wRv7FICD"
      },
      "outputs": [],
      "source": [
        "#@title ✨ 2.1 Xử lý dữ liệu\n",
        "# @markdown 🟡 `Train nhiều lora bằng cách nhập nhiều thư mục, cách nhau bằng dấu phẩy (,)`\n",
        "TrainFolder = \"/content/drive/MyDrive/SD-Data/TrainData\"  # @param {type:'string'}\n",
        "DataClean = False #@param {type:\"boolean\"}\n",
        "# @markdown 🟡 `Điều chỉnh mức độ dài caption tự động`\n",
        "Caption = 'Florence' # @param ['None','Blip','Florence']\n",
        "Caption_Length = \"Medium\" # @param ['Short','Medium','Long']\n",
        "# @markdown 🟡 `Thêm caption tuỳ chọn`\n",
        "Custom_Caption = \"\" # @param {type:'string'}\n",
        "AddFolderName = False #@param {type:\"boolean\"}\n",
        "Remove_Caption = False #@param {type:\"boolean\"}\n",
        "Append = False #@param {type:\"boolean\"}\n",
        "extension =\".txt\"\n",
        "train_folder_list = TrainFolder.split(\",\")\n",
        "\n",
        "Cap_prompt = {\n",
        "    'Short':['<CAPTION>',10,30],\n",
        "    'Medium':['<DETAILED_CAPTION>',10,100],\n",
        "    'Long':['<MORE_DETAILED_CAPTION>',10,150]\n",
        "}\n",
        "\n",
        "for folder in train_folder_list:\n",
        "  if DataClean == True :\n",
        "    %cd /content\n",
        "    clean_directory(folder)\n",
        "  if Caption != \"None\":\n",
        "    caption_dir(folder,Cap_prompt[Caption_Length][0])\n",
        "  if AddFolderName:\n",
        "    add_forder_name(folder)\n",
        "  if Custom_Caption != \"\":\n",
        "    process_dir(folder, Custom_Caption, Append, Remove_Caption)"
      ]
    },
    {
      "cell_type": "code",
      "execution_count": null,
      "metadata": {
        "cellView": "form",
        "id": "ADTRzQt5pS5F"
      },
      "outputs": [],
      "source": [
        "#@title ⚙️ 2.2 Cài đặt train\n",
        "Low_VRAM = False #@param {type:'boolean'}\n",
        "Lora_name = \"lora_name\" # @param {\"type\":\"string\",\"placeholder\":\"Tên lora\"}\n",
        "OutputFolder = \"/content/drive/MyDrive/SD-Data/Lora\" #@param {type:'string'}\n",
        "# @markdown 🟡 `Điều chỉnh steps theo mức độ train mong muốn, các thư mục đặt tên theo cú pháp {steps}_{name} sẽ tự nhận steps riêng theo tên`\n",
        "Steps = 1000 #@param {type:'number'}\n",
        "Save_steps = 250 #@param {type:'number'}\n",
        "Batch_size = 4 #@param {type:'number'}\n",
        "# @markdown 🟡 `Các thông số nên để theo mặc định`\n",
        "Lr = 1e-4 #@param {type:'number'}\n",
        "Dim = 16 #@param {type:'number'}\n",
        "Alpha = 16 #@param {type:'number'}\n",
        "Resolution = \"[ 512, 768, 1024 ]\" #@param {type:'string'}\n",
        "\n",
        "\n",
        "folder_train = []\n",
        "for folder in train_folder_list:\n",
        "  if len(get_supported_images(folder)) > 0:\n",
        "    folder_dic = {\n",
        "    \"path\": folder,\n",
        "    \"steps\": get_steps(folder)[0],\n",
        "    \"name\": get_steps(folder)[1].replace(\" \", \"_\")\n",
        "    }\n",
        "    folder_train.append(folder_dic)\n",
        "  else:\n",
        "    print(f\"Thư mục [ {folder} ] có thể không chứa ảnh được hỗ trợ, hãy kiểm tra lại (.png, .jpg, .jpeg, .webp, .bmp, .JPG, .JPEG, .PNG)\")\n",
        "\n",
        "for folder in folder_train:\n",
        "  file_path = f'{config_dir}/config_{folder[\"name\"]}.yaml'\n",
        "  !cp \"{config_dir}/config.yaml\" \"{file_path}\"\n",
        "  if AddFolderName:\n",
        "    process_dir(folder[\"path\"], folder[\"name\"], False, False)\n",
        "  config = {\n",
        "      'data': [r'folder_path:.*',f'folder_path: \"{folder[\"path\"]}\"'],\n",
        "      'name': [r'name:.*',f'name: \"{Lora_name if len(folder_train) == 1 else folder[\"name\"]}\"'],\n",
        "      'output': [r'training_folder:.*',f'training_folder: \"{OutputFolder}\"'],\n",
        "      'steps': [r' steps:.*',f' steps: {folder[\"steps\"]}'],\n",
        "      'save_steps': [r'save_every:.*',f'save_every: {Save_steps}'],\n",
        "      'sample_every': [r'sample_every:.*',f'sample_every: {Save_steps}'],\n",
        "      'resolution': [r'resolution:.*',f'resolution: {Resolution}'],\n",
        "      'batch': [r'batch_size:.*',f'batch_size: {Batch_size}'],\n",
        "      'dim': [r'linear:.*',f'linear: {Dim}'],\n",
        "      'alpha': [r'linear_alpha:.*',f'linear_alpha: {Alpha}'],\n",
        "      'lr': [r'lr:.*',f'lr: {Lr}'],\n",
        "      'prompt': [r'prompts:[\\s\\S]*?neg:',f'prompts:\\n          - \"{random_sample(folder[\"path\"])}\"\\n        neg:'],\n",
        "      'low_vram': [r'low_vram:.*',f'low_vram: {\"true\" if Low_VRAM == True else \"false\"}'],\n",
        "\n",
        "  }\n",
        "  for i in config:\n",
        "    replace(config[i][0],config[i][1])\n",
        "\n",
        "  print('=====================')\n",
        "  print(f'Thư mục train: {folder[\"path\"]}')\n",
        "  print(f'  Số lượng ảnh: {len(get_supported_images(folder[\"path\"]))}')\n",
        "  print(f'  Số Steps: {folder[\"steps\"]}')\n",
        "  print(f'  Output: {OutputFolder}/{folder[\"name\"]}')\n",
        "  print('=====================')\n"
      ]
    },
    {
      "cell_type": "markdown",
      "metadata": {
        "id": "0zE_WGA-G5WC"
      },
      "source": [
        "#3. 🧨 Train"
      ]
    },
    {
      "cell_type": "code",
      "execution_count": null,
      "metadata": {
        "cellView": "form",
        "id": "Q7V9SS8gxnDy"
      },
      "outputs": [],
      "source": [
        "#@title ⏳ Run Lora Train\n",
        "train()"
      ]
    }
  ],
  "metadata": {
    "accelerator": "GPU",
    "colab": {
      "collapsed_sections": [
        "kmK4UEj1-gHB"
      ],
      "gpuType": "A100",
      "machine_shape": "hm",
      "private_outputs": true,
      "provenance": []
    },
    "kernelspec": {
      "display_name": "Python 3",
      "name": "python3"
    },
    "language_info": {
      "name": "python"
    }
  },
  "nbformat": 4,
  "nbformat_minor": 0
}